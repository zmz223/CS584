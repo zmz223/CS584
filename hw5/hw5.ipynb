{
 "cells": [
  {
   "cell_type": "code",
   "execution_count": 2,
   "id": "occasional-indication",
   "metadata": {},
   "outputs": [],
   "source": [
    "import pandas as pd\n",
    "import matplotlib.pyplot as plt\n",
    "import numpy as np\n",
    "import cv2\n",
    "import os\n",
    "import subprocess\n",
    "from darknetpy.detector import Detector\n",
    "import xml.etree.ElementTree as ET"
   ]
  },
  {
   "cell_type": "code",
   "execution_count": 3,
   "id": "dependent-introduction",
   "metadata": {},
   "outputs": [],
   "source": [
    "annot_path = \"./TrainVal/VOCdevkit/VOC2011/Annotations/\"\n",
    "image_path = \"./TrainVal/VOCdevkit/VOC2011/JPEGImages/\"\n",
    "split_path = \"./TrainVal/VOCdevkit/VOC2011/ImageSets/Segmentation/val.txt\""
   ]
  },
  {
   "cell_type": "code",
   "execution_count": 4,
   "id": "portuguese-concern",
   "metadata": {},
   "outputs": [],
   "source": [
    "#Modifies path in order to allow for detector to access images\n",
    "valid_in = open(split_path, \"r\")\n",
    "valid_out = open(\"./valid.txt\", \"w\")\n",
    "for line in valid_in:\n",
    "    valid_out.write(\"../TrainVal/VOCdevkit/VOC2011/JPEGImages/\" + line[:-1] + \".jpg\\n\")\n",
    "valid_in.close()\n",
    "valid_out.close()"
   ]
  },
  {
   "cell_type": "code",
   "execution_count": null,
   "id": "wireless-neutral",
   "metadata": {},
   "outputs": [],
   "source": [
    "#Runs shell script to install darknet files and run inference...takes a long time so the txt are submitted too\n",
    "#This step is only included for reproducibility\n",
    "subprocess.run([\"chmod\", \"+x\", \"install-dependencies.sh\"])\n",
    "subprocess.run(\"./install-dependencies.sh\",  capture_output=True, shell=True)"
   ]
  },
  {
   "cell_type": "code",
   "execution_count": null,
   "id": "stunning-depression",
   "metadata": {},
   "outputs": [],
   "source": [
    "def build_df(annot_path, image_path, split_path):    \n",
    "    data = pd.DataFrame(columns=[\"image\", \"annotation\", \"IoU\", \"mAP\", \"Time\"])\n",
    "    split = open(split_path, \"r\")\n",
    "    lines = split.readlines()\n",
    "    split.close()\n",
    "    jpg = []\n",
    "    xml = []\n",
    "    for i in lines:\n",
    "        temp = i.split(\" \")[0][:-1]\n",
    "        jpg.append(image_path+temp+\".jpg\")\n",
    "        xml.append(annot_path + temp + \".xml\")\n",
    "    data[\"image\"] = jpg\n",
    "    data[\"annotation\"] = xml\n",
    "    return data\n",
    "    \n"
   ]
  },
  {
   "cell_type": "code",
   "execution_count": null,
   "id": "fancy-marketing",
   "metadata": {},
   "outputs": [],
   "source": [
    "data = build_df(annot_path, image_path, split_path)\n",
    "image = load_image(data[\"image\"].iloc[0])\n",
    "x = detect_objects(image[0], standard, output_layers)[1]"
   ]
  },
  {
   "cell_type": "code",
   "execution_count": null,
   "id": "twenty-rebecca",
   "metadata": {},
   "outputs": [],
   "source": [
    "def find_boxes(file):\n",
    "\n",
    "    tree = ET.parse(file)\n",
    "    root = tree.getroot()\n",
    "\n",
    "    boxes = []\n",
    "\n",
    "    for box in root.iter('object'):\n",
    "\n",
    "\n",
    "        ymin = int(box.find(\"bndbox/ymin\").text)\n",
    "        xmin = int(box.find(\"bndbox/xmin\").text)\n",
    "        ymax = int(box.find(\"bndbox/ymax\").text)\n",
    "        xmax = int(box.find(\"bndbox/xmax\").text)\n",
    "\n",
    "        boxes.append((xmin, ymin, xmax, ymax))\n",
    "        \n",
    "    return boxes\n",
    "\n"
   ]
  },
  {
   "cell_type": "code",
   "execution_count": null,
   "id": "related-saskatchewan",
   "metadata": {},
   "outputs": [],
   "source": [
    "#Inputs are two tuples of the form (x, y, w, h)\n",
    "def IoU(gt, pred):\n",
    "    length_overlap = (gt[0]+gt[3]) - pred[0]\n",
    "    width_overlap = (gt[1]+gt[3]) - pred[1]\n",
    "    area_overlap = length_overlap * width_overlap\n",
    "    area_intersect = (gt[2]*gt[3]) + (pred[2] * pred[3]) - area_overlap\n",
    "    iou = area_overlap / area_intersect\n",
    "    return iou\n",
    "    "
   ]
  },
  {
   "cell_type": "code",
   "execution_count": null,
   "id": "handed-brazilian",
   "metadata": {},
   "outputs": [],
   "source": [
    "#Inputs are lists of tuples of the form [(\"classification\", x, y, w, h), ...,]\n",
    "def mAP(gt, pred):\n",
    "    output = {}\n",
    "    for i in range(len(gt)):\n",
    "        iou = IoU(gt[i][1:], pred[i][1:])\n",
    "        if (iou >= 0.5 and gt[i][0] = None) or (iou >= 0.5 and gt[i][0] != pred[i][0])\n",
    "            output[tuple(gt[i], pred[i])] = \"FN\"\n",
    "        elif iou >= 0.5:\n",
    "            output[tuple(gt[i], pred[i])] = \"TP\"\n",
    "        else\n",
    "            output[tuple(gt[i], pred[i])] = \"FP\"\n",
    "    \n",
    "        \n",
    "    "
   ]
  }
 ],
 "metadata": {
  "kernelspec": {
   "display_name": "env",
   "language": "python",
   "name": "env"
  },
  "language_info": {
   "codemirror_mode": {
    "name": "ipython",
    "version": 3
   },
   "file_extension": ".py",
   "mimetype": "text/x-python",
   "name": "python",
   "nbconvert_exporter": "python",
   "pygments_lexer": "ipython3",
   "version": "3.9.1"
  }
 },
 "nbformat": 4,
 "nbformat_minor": 5
}
